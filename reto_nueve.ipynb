{
  "nbformat": 4,
  "nbformat_minor": 0,
  "metadata": {
    "colab": {
      "provenance": []
    },
    "kernelspec": {
      "name": "python3",
      "display_name": "Python 3"
    },
    "language_info": {
      "name": "python"
    }
  },
  "cells": [
    {
      "cell_type": "markdown",
      "source": [
        "**RETO 9**\n",
        "\n",
        "Punto #1: Desarrollar un algoritmo que calcule el promedio de un arreglo de reales."
      ],
      "metadata": {
        "id": "8CSe2aBQqqkP"
      }
    },
    {
      "cell_type": "code",
      "source": [
        "promedios = [12.4 , 14.6 , 76.5 , 32.5 , 12.3]\n",
        "\n",
        "def suma_promedios(promedios) ->float:\n",
        "  n = int(input(\"Ingrese la cantidad de elementos que contiene el arreglo: \"))\n",
        "  sum(promedios)\n",
        "  return sum(promedios) / n\n",
        "\n",
        "resultado = suma_promedios(promedios)\n",
        "print(\"El promedio de los elementos en el arreglo es: \" +str(resultado))"
      ],
      "metadata": {
        "colab": {
          "base_uri": "https://localhost:8080/"
        },
        "id": "bCBPXTsxn7io",
        "outputId": "55fbf2b7-3ea7-484d-9dbe-7bb961c31940"
      },
      "execution_count": null,
      "outputs": [
        {
          "output_type": "stream",
          "name": "stdout",
          "text": [
            "Ingrese la cantidad de elementos que contiene el arreglo: 5\n",
            "El promedio de los elementos en el arreglo es: 29.660000000000004\n"
          ]
        }
      ]
    },
    {
      "cell_type": "markdown",
      "source": [
        "Punto #2: Desarrollar un algoritmo que calcule el producto punto de dos arreglos de números enteros (reales) de igual tamaño.\n"
      ],
      "metadata": {
        "id": "K_LdYtE_q0b_"
      }
    },
    {
      "cell_type": "code",
      "source": [
        "import numpy as np\n",
        "\n",
        "\n",
        "arreglo_uno = [2, 4, 7, 21, 17, 34]\n",
        "arreglo_dos = [4, 2, 9, 32, 23, 75]\n",
        "\n",
        "\n",
        "def producto_punto(arreglo_uno, arreglo_dos)->int:\n",
        "  array1 = np.array(arreglo_uno)\n",
        "  array2 = np.array(arreglo_dos)\n",
        "  arreglo_tres = array1 * array2\n",
        "  return sum(arreglo_tres)\n",
        "\n",
        "resultado = producto_punto(arreglo_uno, arreglo_dos)\n",
        "\n",
        "print(resultado)"
      ],
      "metadata": {
        "id": "9McUGPMt10Ut",
        "colab": {
          "base_uri": "https://localhost:8080/"
        },
        "outputId": "9392f93c-3b63-4241-8576-807a7e4b0fb2"
      },
      "execution_count": null,
      "outputs": [
        {
          "output_type": "stream",
          "name": "stdout",
          "text": [
            "3692\n"
          ]
        }
      ]
    },
    {
      "cell_type": "markdown",
      "source": [
        "Punto #3: Hacer un algoritmo que deje al final de un arreglo de números todos los ceros que aparezcan en dicho arreglo."
      ],
      "metadata": {
        "id": "Rn0a0e4Y-gFO"
      }
    },
    {
      "cell_type": "code",
      "source": [
        "arreglo = [1, 0, 8, 16, 12, 13, 17, 0, 98, 78, 54, 25, 253, 0, 234, 97, 23, 123]\n",
        "\n",
        "def ceros_al_final(arreglo):\n",
        "  arreglo.sort(reverse = True)\n",
        "  return arreglo\n",
        "\n",
        "resultado = ceros_al_final(arreglo)\n",
        "\n",
        "print(resultado)"
      ],
      "metadata": {
        "colab": {
          "base_uri": "https://localhost:8080/"
        },
        "id": "2FpZrLKf-n1v",
        "outputId": "bec28cf1-b540-41e0-de11-1180ff93e5e1"
      },
      "execution_count": 1,
      "outputs": [
        {
          "output_type": "stream",
          "name": "stdout",
          "text": [
            "[253, 234, 123, 98, 97, 78, 54, 25, 23, 17, 16, 13, 12, 8, 1, 0, 0, 0]\n"
          ]
        }
      ]
    }
  ]
}